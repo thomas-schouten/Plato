{
 "cells": [
  {
   "cell_type": "markdown",
   "metadata": {},
   "source": []
  },
  {
   "cell_type": "code",
   "execution_count": 1,
   "metadata": {},
   "outputs": [
    {
     "ename": "ModuleNotFoundError",
     "evalue": "No module named 'plato'",
     "output_type": "error",
     "traceback": [
      "\u001b[0;31m---------------------------------------------------------------------------\u001b[0m",
      "\u001b[0;31mModuleNotFoundError\u001b[0m                       Traceback (most recent call last)",
      "Cell \u001b[0;32mIn[1], line 4\u001b[0m\n\u001b[1;32m      1\u001b[0m \u001b[38;5;28;01mimport\u001b[39;00m \u001b[38;5;21;01mnumpy\u001b[39;00m \u001b[38;5;28;01mas\u001b[39;00m \u001b[38;5;21;01mnp\u001b[39;00m\n\u001b[1;32m      2\u001b[0m \u001b[38;5;28;01mimport\u001b[39;00m \u001b[38;5;21;01mmatplotlib\u001b[39;00m\u001b[38;5;21;01m.\u001b[39;00m\u001b[38;5;21;01mpyplot\u001b[39;00m \u001b[38;5;28;01mas\u001b[39;00m \u001b[38;5;21;01mplt\u001b[39;00m\n\u001b[0;32m----> 4\u001b[0m \u001b[38;5;28;01mimport\u001b[39;00m \u001b[38;5;21;01mplato\u001b[39;00m\n",
      "\u001b[0;31mModuleNotFoundError\u001b[0m: No module named 'plato'"
     ]
    }
   ],
   "source": [
    "import numpy as np\n",
    "import matplotlib.pyplot as plt\n",
    "\n",
    "import plato"
   ]
  },
  {
   "cell_type": "code",
   "execution_count": null,
   "metadata": {},
   "outputs": [],
   "source": [
    "# Set parameters\n",
    "# Plate reconstruction\n",
    "reconstruction_name = \"Muller2016\" # This will automatically download all the relevant files for Muller et al. (2016) reconstruction from the GPlately DataServer\n",
    "\n",
    "# Reconstruction ages of interest\n",
    "ages = np.arange(0, 51)\n",
    "\n",
    "# Set up PlateTorques object\n",
    "pt = plato.PlateTorques(reconstruction_name = reconstruction_name, ages = ages)"
   ]
  },
  {
   "cell_type": "markdown",
   "metadata": {},
   "source": [
    "Sampling and \n",
    "\n",
    "The below cell calls the `sample_all` method of the `PlateTorques` object to sample seafloor ages at subduction zones and grid points.\n",
    "\n",
    "The "
   ]
  },
  {
   "cell_type": "code",
   "execution_count": null,
   "metadata": {},
   "outputs": [],
   "source": [
    "# Sample seafloor ages\n",
    "pt.sample_all()\n",
    "\n",
    "# Calculate torques\n",
    "pt.calculate_all_torques()"
   ]
  },
  {
   "cell_type": "markdown",
   "metadata": {},
   "source": [
    "The below cells extract the magnitude RMS velocity and the residual torque for the the Pacific plate for the ages of interest and plot these."
   ]
  },
  {
   "cell_type": "code",
   "execution_count": null,
   "metadata": {},
   "outputs": [],
   "source": [
    "# Extract data of interest\n",
    "pacific_rms_velocity = pt.extract_data_through_time(plateIDs = 901, data_type = \"rms_velocity_mag\")\n",
    "pacific_residual_torque = pt.extract_data_through_time(plateIDs = 901, data_type = \"residual_torque_mag\")"
   ]
  },
  {
   "cell_type": "code",
   "execution_count": null,
   "metadata": {},
   "outputs": [],
   "source": [
    "# Plot residual magnitudes of RMS velocity and residual torque through time\n",
    "fig, ax1, ax2 = plt.subplots(1, 2, sharex=True)\n",
    "ax1.plot(pacific_rms_velocity, label = \"RMS velocity magnitude\")\n",
    "ax2.plot(pacific_residual_torque, label = \"Residual torque magnitude\")\n",
    "ax2.set_xlabel(\"Age [Ma]\")\n",
    "ax1.set_ylabel(\"RMS speed [cm/a]\")\n",
    "ax2.set_ylabel(\"Residual torque [Nm]\")"
   ]
  },
  {
   "cell_type": "markdown",
   "metadata": {},
   "source": [
    "The below cell "
   ]
  }
 ],
 "metadata": {
  "kernelspec": {
   "display_name": "reveal_env",
   "language": "python",
   "name": "python3"
  },
  "language_info": {
   "codemirror_mode": {
    "name": "ipython",
    "version": 3
   },
   "file_extension": ".py",
   "mimetype": "text/x-python",
   "name": "python",
   "nbconvert_exporter": "python",
   "pygments_lexer": "ipython3",
   "version": "3.10.12"
  }
 },
 "nbformat": 4,
 "nbformat_minor": 2
}
