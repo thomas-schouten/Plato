{
 "cells": [
  {
   "cell_type": "markdown",
   "metadata": {},
   "source": [
    "## __Plato Notebook 2: Optimisation with sediment lubrication, cratonic keels and slab suction__\n",
    "\n",
    "Thomas Schouten, Whitney Behr, Edward Clennett, Thorsten Becker\n"
   ]
  },
  {
   "cell_type": "markdown",
   "metadata": {},
   "source": [
    "#### __0. Prepare Python__\n",
    "\n",
    "First, we load the required packages."
   ]
  },
  {
   "cell_type": "code",
   "execution_count": null,
   "metadata": {},
   "outputs": [],
   "source": [
    "import os\n",
    "import sys\n",
    "import numpy as np\n",
    "import pandas as pd\n",
    "import cartopy.crs as ccrs\n",
    "import matplotlib.pyplot as plt\n",
    "import matplotlib.gridspec as gridspec\n",
    "\n",
    "sys.path.append(os.path.abspath(os.path.join(os.getcwd(), \"..\")))\n",
    "\n",
    "from plato.optimisation import Optimisation\n",
    "from plato.plate_torques import PlateTorques\n",
    "from plato.plot import PlotReconstruction"
   ]
  },
  {
   "cell_type": "markdown",
   "metadata": {},
   "source": [
    "#### __1. Set up the PlateTorques object__\n",
    "\n",
    "The below cell loads a `PlateTorques` object for the Müller et al. (2016) reconstruction by providing the ages of interest and the model string identifier \"Muller2016\", which automatically downloads the relevant files from the GPlately DataServer."
   ]
  },
  {
   "cell_type": "code",
   "execution_count": null,
   "metadata": {},
   "outputs": [],
   "source": [
    "# Set parameters\n",
    "# Plate reconstruction\n",
    "reconstruction_name = \"Muller2016\" \n",
    "\n",
    "# Reconstruction ages of interest\n",
    "ages = [0]\n",
    "\n",
    "# Set directory to save the results\n",
    "results_dir = \"02-Results\"\n",
    "\n",
    "# Set up PlateTorques object\n",
    "M2016 = PlateTorques(reconstruction_name = reconstruction_name, ages = ages, files_dir=results_dir)"
   ]
  },
  {
   "cell_type": "markdown",
   "metadata": {},
   "source": [
    "#### __2. Sampling and torque calculation__\n",
    "\n",
    "The below cell calls the `sample_all` method of the `PlateTorques` object to sample seafloor ages at subduction zones and grid points.\n",
    "\n",
    "Then, the cell calls the `calculate_all_torques` method of the `PlateTorques` object to calculate all torques."
   ]
  },
  {
   "cell_type": "code",
   "execution_count": null,
   "metadata": {},
   "outputs": [],
   "source": []
  },
  {
   "cell_type": "markdown",
   "metadata": {},
   "source": [
    "#### __3. Adding trench fill sediments__\n",
    "\n",
    "The below cells add trench fill sediments to "
   ]
  },
  {
   "cell_type": "code",
   "execution_count": null,
   "metadata": {},
   "outputs": [],
   "source": [
    "def haversine(lat1, lon1, lat2, lon2):\n",
    "    \"\"\"\n",
    "    Calculate the Haversine distance between two sets of points on Earth.\n",
    "\n",
    "    :param lat1:    Latitude of the first point in degrees.\n",
    "    :type lat1:     float\n",
    "    :param lon1:    Longitude of the first point in degrees.\n",
    "    :type lon1:     float\n",
    "    :param lat2:    Latitude of the second point in degrees.\n",
    "    :type lat2:     float\n",
    "    :param lon2:    Longitude of the second point in degrees.\n",
    "    :type lon2:     float\n",
    "\n",
    "    :return:        The Haversine distance between the two points.\n",
    "    :rtype:         float\n",
    "    \"\"\"\n",
    "    # Convert latitude and longitude from degrees to radians\n",
    "    lat1 = np.deg2rad(lat1)\n",
    "    lon1 = np.deg2rad(lon1)\n",
    "    lat2 = np.deg2rad(lat2)\n",
    "    lon2 = np.deg2rad(lon2)\n",
    "\n",
    "    # Haversine formula\n",
    "    dlat = lat2 - lat1\n",
    "    dlon = lon2 - lon1\n",
    "    a = np.sin(dlat / 2) ** 2 + np.cos(lat1) * np.cos(lat2) * np.sin(dlon / 2) ** 2\n",
    "    c = 2 * np.arctan2(np.sqrt(a), np.sqrt(1 - a))\n",
    "\n",
    "    return c"
   ]
  },
  {
   "cell_type": "code",
   "execution_count": null,
   "metadata": {},
   "outputs": [],
   "source": [
    "# Load Heuret et al. (2012) data\n",
    "trench_sediment_thickness = pd.read_excel(\"/Users/thomas/Documents/_Plato/Sediment_lubrication_#2/Heuret2012_data.xlsx\")\n",
    "\n",
    "# Add Heuret et al. (2012) data (which is in km!!) to the sediment thickness column in slabs\n",
    "for age in M2016.ages:\n",
    "    for case in M2016.cases:\n",
    "        if \"seds\" not in case:\n",
    "            continue\n",
    "        \n",
    "        for i, _ in enumerate(M2016.slabs.data[age][case].lat):\n",
    "            distance_to_segments = haversine(\n",
    "                M2016.slabs.data[age][case].loc[i, \"lat\"],\n",
    "                M2016.slabs.data[age][case].loc[i, \"lon\"],\n",
    "                trench_sediment_thickness.Latitude,\n",
    "                trench_sediment_thickness.Longitude\n",
    "            )\n",
    "            M2016.slabs.data[age][case].loc[i, \"sediment_thickness\"] = trench_sediment_thickness[\"Sediment thickness\"][distance_to_segments.idxmin()] * 1e3"
   ]
  },
  {
   "cell_type": "code",
   "execution_count": null,
   "metadata": {},
   "outputs": [],
   "source": []
  },
  {
   "cell_type": "markdown",
   "metadata": {},
   "source": [
    "#### __4. Adding cratonic keels__\n",
    "\n",
    "The below cells add a grid of lithospheric thickness to the `PlateTorques` object to determine the distribution and extent of cratonic keels."
   ]
  }
 ],
 "metadata": {
  "language_info": {
   "name": "python"
  }
 },
 "nbformat": 4,
 "nbformat_minor": 2
}
